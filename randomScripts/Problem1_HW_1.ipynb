{
 "cells": [
  {
   "cell_type": "code",
   "execution_count": 5,
   "metadata": {},
   "outputs": [
    {
     "name": "stdout",
     "output_type": "stream",
     "text": [
      "number   square   cube\n",
      "     0        0      0\n",
      "     1        1      1\n",
      "     2        4      8\n",
      "     3        9      27\n",
      "     4        16      64\n",
      "     5        25      125\n"
     ]
    }
   ],
   "source": [
    "gap = \" \" * 3\n",
    "gap2 = \" \" * 5\n",
    "\n",
    "\n",
    "n = eval(input(\"Please input an integer value \"))\n",
    "\n",
    "heading = f\"{'number'}{gap}{'square'}{gap}{'cube'}\"\n",
    "\n",
    "print(heading)\n",
    "\n",
    "def main():\n",
    "    for i in range(0, n+1):\n",
    "        x = i*i\n",
    "        y = i*i*i\n",
    "        heading2 = f\"{gap2}{i}{gap}{gap2}{x}{gap}{gap}{y}\"\n",
    "\n",
    "        print(heading2)\n",
    "    \n",
    "main()\n",
    "    "
   ]
  }
 ],
 "metadata": {
  "kernelspec": {
   "display_name": "dev",
   "language": "python",
   "name": "dev"
  },
  "orig_nbformat": 4,
  "vscode": {
   "interpreter": {
    "hash": "5c7b89af1651d0b8571dde13640ecdccf7d5a6204171d6ab33e7c296e100e08a"
   }
  }
 },
 "nbformat": 4,
 "nbformat_minor": 2
}

{
 "cells": [
  {
   "cell_type": "code",
   "execution_count": 4,
   "metadata": {},
   "outputs": [
    {
     "name": "stdout",
     "output_type": "stream",
     "text": [
      "the temperature in Fahrenheit 212.0\n"
     ]
    }
   ],
   "source": [
    "#Convert temperature in celsius to fahrenheit\n",
    "\n",
    "celsius = eval(input(\"Enter the degrees Celsius: \")) #\"eval\" command will convert the string into an integer or float\n",
    "\n",
    "def main():\n",
    "    fahrenheit = (9/5) * celsius + 32\n",
    "    print(\"the temperature in Fahrenheit\", fahrenheit)\n",
    "\n",
    "main()\n",
    "\n",
    "\n",
    "\n",
    "\n",
    "\n"
   ]
  },
  {
   "cell_type": "code",
   "execution_count": 5,
   "metadata": {},
   "outputs": [
    {
     "name": "stdout",
     "output_type": "stream",
     "text": [
      "the temperature in celsius is 0.0\n"
     ]
    }
   ],
   "source": [
    "#convert fahrenheit to celsius\n",
    "\n",
    "fahrenheit = eval(input(\"What is the temp in Fahrenheit: \"))\n",
    "\n",
    "def main2():\n",
    "    celsius = (fahrenheit-32) * 5/9\n",
    "    print(\"the temperature in celsius is\", celsius)\n",
    "\n",
    "main2()"
   ]
  },
  {
   "cell_type": "code",
   "execution_count": 7,
   "metadata": {},
   "outputs": [
    {
     "name": "stdout",
     "output_type": "stream",
     "text": [
      "83054.00086021505\n"
     ]
    }
   ],
   "source": [
    "#Calculate the time it takes a message traveling at hte speed of light to get ot mars from earth t = d/v\n",
    "\n",
    "d = 10*(34**6)\n",
    "v = 186000\n",
    "\n",
    "\n",
    "def time():\n",
    "    t = (d/v)\n",
    "    print(t)\n",
    "\n",
    "time()\n"
   ]
  }
 ],
 "metadata": {
  "kernelspec": {
   "display_name": "Python 3",
   "language": "python",
   "name": "python3"
  },
  "language_info": {
   "codemirror_mode": {
    "name": "ipython",
    "version": 3
   },
   "file_extension": ".py",
   "mimetype": "text/x-python",
   "name": "python",
   "nbconvert_exporter": "python",
   "pygments_lexer": "ipython3",
   "version": "3.9.6"
  },
  "orig_nbformat": 4,
  "vscode": {
   "interpreter": {
    "hash": "31f2aee4e71d21fbe5cf8b01ff0e069b9275f58929596ceb00d14d90e3e16cd6"
   }
  }
 },
 "nbformat": 4,
 "nbformat_minor": 2
}

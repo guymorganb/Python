{
 "cells": [
  {
   "cell_type": "code",
   "execution_count": 1,
   "metadata": {},
   "outputs": [
    {
     "name": "stdout",
     "output_type": "stream",
     "text": [
      "2.708333333333333\n"
     ]
    }
   ],
   "source": [
    "#make a program to calculate the summation of the equation to calculate the value of e\n",
    "#accumulator algorithm\n",
    "import math\n",
    "\n",
    "n=eval(input(\"How many iterations:? \"))\n",
    "\n",
    "newList = []\n",
    "def main():\n",
    "    for i in range(n):\n",
    "        \n",
    "        i = 1/(math.factorial(i))\n",
    "        newList.extend([i])\n",
    "        \n",
    "        \n",
    "    print(sum(newList))\n",
    "\n",
    "main()\n",
    "        \n",
    "        \n",
    "        \n",
    "        \n"
   ]
  }
 ],
 "metadata": {
  "kernelspec": {
   "display_name": "dev",
   "language": "python",
   "name": "dev"
  },
  "orig_nbformat": 4,
  "vscode": {
   "interpreter": {
    "hash": "5c7b89af1651d0b8571dde13640ecdccf7d5a6204171d6ab33e7c296e100e08a"
   }
  }
 },
 "nbformat": 4,
 "nbformat_minor": 2
}

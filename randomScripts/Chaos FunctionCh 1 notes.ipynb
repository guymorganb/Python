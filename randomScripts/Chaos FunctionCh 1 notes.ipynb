{
 "cells": [
  {
   "cell_type": "code",
   "execution_count": null,
   "metadata": {},
   "outputs": [],
   "source": [
    "def hello():\n",
    "    print(\"Hello\")\n",
    "    print(\"Computers are fun!\")   \n",
    "hello()    \n",
    "\n",
    "def greet(person):\n",
    "    print(\"Hello\", person)\n",
    "    print(\"how are you\", person)\n",
    "greet(\"Morgan\")\n",
    "\n",
    "\n",
    "greet"
   ]
  },
  {
   "cell_type": "code",
   "execution_count": null,
   "metadata": {},
   "outputs": [],
   "source": [
    "print(\"start\") \n",
    "for i in range(0): \n",
    "    print(\"Hello\")\n",
    "print(\"end\")"
   ]
  },
  {
   "cell_type": "code",
   "execution_count": null,
   "metadata": {},
   "outputs": [],
   "source": []
  },
  {
   "cell_type": "code",
   "execution_count": null,
   "metadata": {},
   "outputs": [],
   "source": [
    "#File Chaos.py\n",
    "# A simple program illustrating chaotic behavior\n",
    "\n",
    "gap = ' ' * 15 \n",
    "gap1 = ' ' * 5\n",
    "gap2 = ' ' * 18\n",
    "n = eval(input(\"How many values should I print\"))\n",
    "print(\"this program illustrates a chaotic function\")\n",
    "heading = f\"{'Input':5s}{gap}{'x':5s}{gap2}{'y':5s}\" \n",
    "print(\"=\"*80)\n",
    "print(heading)\n",
    "print(\"-\"*80)\n",
    "\n",
    "def main():\n",
    "    x = eval(input(\"enter a number between 0 and 1 for x: \"))\n",
    "    y = eval(input(\"enter a number between 0 and 1 for y: \"))\n",
    "    for i in range(n):\n",
    "        x = 3.9 * x * (1 - x)\n",
    "        y = 3.9 * y * (1 - y)\n",
    "        #x = 3.9 * (x - x * x)\n",
    "        #x = 3.9 * x - 3.9 * x * x\n",
    "        heading2 = f\"{gap}{gap1}{x}{gap1}{y}\"\n",
    "        print(heading2)    \n",
    "      \n",
    "\n",
    "main()"
   ]
  },
  {
   "cell_type": "code",
   "execution_count": null,
   "metadata": {},
   "outputs": [],
   "source": [
    "#File Chaos.py\n",
    "# A simple program illustrating chaotic behavior\n",
    "\n",
    "def main():\n",
    "    print(\"this program illustrates a chaotic function\")\n",
    "    x = eval(input(\"enter a number between 0 and 1: \"))\n",
    "    for i in range(20):\n",
    "        x = 3.9 * x * (1 - x)\n",
    "        print(x)\n",
    "\n",
    "main()"
   ]
  },
  {
   "cell_type": "code",
   "execution_count": null,
   "metadata": {},
   "outputs": [],
   "source": [
    "print(\"Hello, World\")\n",
    "\n",
    "print(\"Hello\", \"World!\")\n",
    "\n",
    "print(3)\n",
    "\n",
    "print(3.0)\n",
    "\n",
    "print(2+3)\n",
    "\n",
    "print(2.0 + 3.0)\n",
    "\n",
    "print(\"2\"+\"3\")\n",
    "\n",
    "print(\"2+3 =\", 2 + 3)\n",
    "\n",
    "print(2 * 3)\n",
    "\n",
    "print(2 ** 3)\n",
    "\n",
    "print (7 / 3)\n",
    "\n",
    "print( 7// 3)"
   ]
  },
  {
   "cell_type": "code",
   "execution_count": null,
   "metadata": {},
   "outputs": [],
   "source": [
    "\n",
    "print(\"The answer is\", end=\" \")\n",
    "print(3 + 7)\n",
    "\n",
    "print(4+6, end=\" \")\n",
    "print(3 + 7)"
   ]
  },
  {
   "cell_type": "code",
   "execution_count": null,
   "metadata": {},
   "outputs": [],
   "source": [
    "#compute the average of 5 test scores\n",
    "#take multiple inputs from the user and assign them to multiple variables\n",
    "\n",
    "def main():\n",
    "    var1, var2, var3, var4, var5 = eval(input(\"Please enter your 5 scores separated by commas: \"))\n",
    "    averagescore = (var1 + var2 + var3 + var4 + var5) / 5\n",
    "    print(\"Your average score is\", averagescore)\n",
    "\n",
    "main()\n",
    "\n",
    "\n"
   ]
  },
  {
   "cell_type": "code",
   "execution_count": 32,
   "metadata": {},
   "outputs": [
    {
     "name": "stdout",
     "output_type": "stream",
     "text": [
      "24\n"
     ]
    }
   ],
   "source": [
    "#make a program to calculate factorial without using math.factorial()\n",
    "\n",
    "import math\n",
    "list = []\n",
    "fact = 1\n",
    "for i in range(1,5):\n",
    "    fact = fact* i\n",
    "    \n",
    "print(fact)\n",
    "    "
   ]
  }
 ],
 "metadata": {
  "kernelspec": {
   "display_name": "dev",
   "language": "python",
   "name": "dev"
  },
  "language_info": {
   "codemirror_mode": {
    "name": "ipython",
    "version": 3
   },
   "file_extension": ".py",
   "mimetype": "text/x-python",
   "name": "python",
   "nbconvert_exporter": "python",
   "pygments_lexer": "ipython3",
   "version": "3.9.13"
  },
  "orig_nbformat": 4,
  "vscode": {
   "interpreter": {
    "hash": "31f2aee4e71d21fbe5cf8b01ff0e069b9275f58929596ceb00d14d90e3e16cd6"
   }
  }
 },
 "nbformat": 4,
 "nbformat_minor": 2
}

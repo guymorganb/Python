{
 "cells": [
  {
   "cell_type": "code",
   "execution_count": 166,
   "metadata": {},
   "outputs": [
    {
     "name": "stdout",
     "output_type": "stream",
     "text": [
      "|-------------------------------------------------------|\n",
      "| Number of tankfuls: 5                                 |\n",
      "| Enter the gallons used: 5                             |\n",
      "| Enter the miles driven: 10                            |\n",
      "| The Miles/Gallon for this tank was: 2.0               |\n",
      "|                                                       |\n",
      "|                                                       |\n",
      "|                                                       |\n",
      "|______________________________________________________|_\n"
     ]
    }
   ],
   "source": [
    "\n",
    "\n",
    "Height, Width = 9, 55\n",
    "\n",
    "Tanks = eval(input(\"How many time(s) did you fill up your Gas tank?: \"))\n",
    "Gallons = eval(input(\"How many gallons did you use?: \"))\n",
    "MilesD = eval(input(\"How many miles did you drive?\"))\n",
    "MPG = MilesD/Gallons\n",
    "\n",
    "gap =\" \"\n",
    "\n",
    "heading = f\"{gap}Number of tankfuls: {Tanks}\"\n",
    "heading2 = f\"{gap}Enter the gallons used: {Gallons}\"\n",
    "heading3 = f\"{gap}Enter the miles driven: {MilesD}\"\n",
    "heading4 = f\"{gap}The Miles/Gallon for this tank was: {MPG}\"\n",
    "\n",
    "\n",
    "def main():\n",
    "    for i in range(Height):\n",
    "        for j in range(Width):\n",
    "            if j == 0:\n",
    "                print(\"|\",end=\"\")\n",
    "            if i == Height-8 and j < Width-54:\n",
    "                print(heading,\" \"*((Width-1)-len(heading)),end=\"\")\n",
    "            if i == Height-7 and j < Width-54:\n",
    "                print(heading2,\" \"*((Width-1)-len(heading2)),end=\"\")\n",
    "            if i == Height-6 and j < Width-54:\n",
    "                print(heading3,\" \"*((Width-1)-len(heading3)),end=\"\")\n",
    "            if i == Height-5 and j < Width-54:\n",
    "                print(heading4,\" \"*((Width-1)-len(heading4)),end=\"\")\n",
    "            if i > 4 and i < Height-1:\n",
    "                print(\" \",end=\"\")  \n",
    "            if i == 0:\n",
    "                print(\"-\", end=\"\")\n",
    "            if i == Height-1: \n",
    "                print(\"_\", end=\"\")\n",
    "            if j == Width-1:\n",
    "                print(\"|\", end=\"\") \n",
    "        \n",
    "        print()\n",
    "        \n",
    "main()\n",
    "    "
   ]
  }
 ],
 "metadata": {
  "kernelspec": {
   "display_name": "dev",
   "language": "python",
   "name": "dev"
  },
  "orig_nbformat": 4,
  "vscode": {
   "interpreter": {
    "hash": "5c7b89af1651d0b8571dde13640ecdccf7d5a6204171d6ab33e7c296e100e08a"
   }
  }
 },
 "nbformat": 4,
 "nbformat_minor": 2
}
